{
 "cells": [
  {
   "cell_type": "code",
   "execution_count": null,
   "metadata": {},
   "outputs": [],
   "source": [
    "!git clone https://github.com/datvodinh/llm-trainer.git\n",
    "%cd llm-trainer\n",
    "!source scripts/setup.sh"
   ]
  },
  {
   "cell_type": "code",
   "execution_count": null,
   "metadata": {},
   "outputs": [],
   "source": [
    "!source scripts/train_function_calling.sh \\\n",
    "--hf_username [USERNAME] \\\n",
    "--hf_token [HF TOKEN] \\\n",
    "--wandb_token [WANDB TOKEN] \\"
   ]
  }
 ],
 "metadata": {
  "language_info": {
   "name": "python"
  }
 },
 "nbformat": 4,
 "nbformat_minor": 2
}
