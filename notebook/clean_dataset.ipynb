{
 "cells": [
  {
   "cell_type": "code",
   "execution_count": 3,
   "metadata": {},
   "outputs": [
    {
     "name": "stderr",
     "output_type": "stream",
     "text": [
      "Map: 100%|██████████| 112960/112960 [00:03<00:00, 33537.95 examples/s]\n"
     ]
    }
   ],
   "source": [
    "import re\n",
    "from datasets import load_dataset\n",
    "dataset = load_dataset(\"glaiveai/glaive-function-calling-v2\", split=\"train\")\n",
    "\n",
    "GLAIVE_ROLES = ['USER', 'ASSISTANT', 'FUNCTION RESPONSE']\n",
    "GLAIVE_TO_CONVERTED_ROLE = {\n",
    "  'SYSTEM': 'system',\n",
    "  'USER': 'user',\n",
    "  'ASSISTANT': 'assistant',\n",
    "  'FUNCTION RESPONSE': 'function',\n",
    "}\n",
    "\n",
    "\n",
    "# The split regex is a role, plus semicolon and space. For example\n",
    "# \"USER: \" or \"FUNCTION RESPONSE: \".\n",
    "split_re = re.compile(r'({}): '.format('|'.join(GLAIVE_ROLES)))\n",
    "\n",
    "\n",
    "def _parse_chat(row: dict):\n",
    "  system_prompt = row.get('system')\n",
    "  # Remove \"SYSTEM: \" from the beginning of the prompt.\n",
    "  if system_prompt:\n",
    "    system_prompt = system_prompt.removeprefix('SYSTEM: ')\n",
    "\n",
    "  chat = row['chat']\n",
    "  # Split chat by split_res, and remove empty strings.\n",
    "  chats = [s.strip() for s in split_re.split(chat) if s]\n",
    "\n",
    "  # results look like:\n",
    "  # ['USER', 'Can you book a flight for me from New York to London?', 'ASSISTANT', '...']\n",
    "  # We now want it to be a dictionary of {'from': 'user', 'value': 'Can you book a flight...'}\n",
    "  chats = [\n",
    "    {'from': GLAIVE_TO_CONVERTED_ROLE[role], 'value': value}\n",
    "    for role, value in zip(chats[::2], chats[1::2])\n",
    "  ]\n",
    "\n",
    "  if system_prompt:\n",
    "    chats = [{'from': GLAIVE_TO_CONVERTED_ROLE['SYSTEM'], 'value': system_prompt}] + chats\n",
    "\n",
    "  return {\n",
    "    \"conversation\": chats,\n",
    "  }\n",
    "\n",
    "\n",
    "res = dataset.map(_parse_chat)"
   ]
  },
  {
   "cell_type": "code",
   "execution_count": 5,
   "metadata": {},
   "outputs": [
    {
     "data": {
      "text/plain": [
       "Dataset({\n",
       "    features: ['system', 'chat', 'conversation'],\n",
       "    num_rows: 112960\n",
       "})"
      ]
     },
     "execution_count": 5,
     "metadata": {},
     "output_type": "execute_result"
    }
   ],
   "source": [
    "res"
   ]
  },
  {
   "cell_type": "code",
   "execution_count": 10,
   "metadata": {},
   "outputs": [
    {
     "name": "stderr",
     "output_type": "stream",
     "text": [
      "Creating parquet from Arrow format: 100%|██████████| 57/57 [00:00<00:00, 79.26ba/s]\n",
      "Creating parquet from Arrow format: 100%|██████████| 57/57 [00:00<00:00, 85.26ba/s]\n",
      "Uploading the dataset shards: 100%|██████████| 2/2 [00:26<00:00, 13.36s/it]\n"
     ]
    },
    {
     "data": {
      "text/plain": [
       "CommitInfo(commit_url='https://huggingface.co/datasets/dinhdat1110/glaive-function-calling-v2-cleaned/commit/a5d1f29b536c1376480d6cb36ca69fbe8db90d8b', commit_message='Upload dataset', commit_description='', oid='a5d1f29b536c1376480d6cb36ca69fbe8db90d8b', pr_url=None, pr_revision=None, pr_num=None)"
      ]
     },
     "execution_count": 10,
     "metadata": {},
     "output_type": "execute_result"
    }
   ],
   "source": [
    "res.push_to_hub(\n",
    "    'dinhdat1110/glaive-function-calling-v2-cleaned',\n",
    "    token=\"\")"
   ]
  },
  {
   "cell_type": "code",
   "execution_count": null,
   "metadata": {},
   "outputs": [],
   "source": []
  }
 ],
 "metadata": {
  "kernelspec": {
   "display_name": ".venv",
   "language": "python",
   "name": "python3"
  },
  "language_info": {
   "codemirror_mode": {
    "name": "ipython",
    "version": 3
   },
   "file_extension": ".py",
   "mimetype": "text/x-python",
   "name": "python",
   "nbconvert_exporter": "python",
   "pygments_lexer": "ipython3",
   "version": "3.12.3"
  }
 },
 "nbformat": 4,
 "nbformat_minor": 2
}
